{
  "nbformat": 4,
  "nbformat_minor": 0,
  "metadata": {
    "colab": {
      "provenance": []
    },
    "kernelspec": {
      "name": "python3",
      "display_name": "Python 3"
    },
    "language_info": {
      "name": "python"
    }
  },
  "cells": [
    {
      "cell_type": "code",
      "execution_count": 1,
      "metadata": {
        "colab": {
          "base_uri": "https://localhost:8080/"
        },
        "id": "sY7kBnuMHnJ-",
        "outputId": "b332f70f-fe61-4c37-edc2-6299cd12ae1d"
      },
      "outputs": [
        {
          "output_type": "stream",
          "name": "stdout",
          "text": [
            "Mounted at /content/drive\n"
          ]
        }
      ],
      "source": [
        "from google.colab import drive\n",
        "drive.mount('/content/drive')"
      ]
    },
    {
      "cell_type": "code",
      "source": [
        "# import the libraries as shown below\n",
        "\n",
        "from tensorflow.keras.layers import Input, Lambda, Dense, Flatten,Conv2D,MaxPooling2D\n",
        "from tensorflow.keras.models import Model\n",
        "from tensorflow.keras.applications.resnet50 import preprocess_input\n",
        "from tensorflow.keras.preprocessing import image\n",
        "from tensorflow.keras.preprocessing.image import ImageDataGenerator,load_img\n",
        "from tensorflow.keras.models import Sequential\n",
        "import numpy as np\n",
        "from glob import glob\n",
        "import matplotlib.pyplot as plt"
      ],
      "metadata": {
        "id": "uDcrrE3gN7EP"
      },
      "execution_count": 2,
      "outputs": []
    },
    {
      "cell_type": "code",
      "source": [
        "# re-size all the images to this\n",
        "IMAGE_SIZE = [224, 224]\n",
        "\n",
        "train_path = '/content/drive/MyDrive/Dataset/Test'\n",
        "valid_path = '/content/drive/MyDrive/Dataset/Train'\n"
      ],
      "metadata": {
        "id": "-I_OsC1UN7u8"
      },
      "execution_count": 3,
      "outputs": []
    },
    {
      "cell_type": "code",
      "source": [
        "#from tensorflow.keras.layers import MaxPooling2D"
      ],
      "metadata": {
        "id": "HG9EWhxqN_PJ"
      },
      "execution_count": null,
      "outputs": []
    },
    {
      "cell_type": "code",
      "source": [
        "### Create Model from scratch using CNN\n",
        "model=Sequential()\n",
        "model.add(Conv2D(filters=16,kernel_size=2,padding=\"same\",activation=\"relu\",input_shape=(224,224,3)))\n",
        "model.add(MaxPooling2D(pool_size=2))\n",
        "model.add(Conv2D(filters=32,kernel_size=2,padding=\"same\",activation =\"relu\"))\n",
        "model.add(MaxPooling2D(pool_size=2))\n",
        "model.add(Conv2D(filters=64,kernel_size=2,padding=\"same\",activation=\"relu\"))\n",
        "model.add(MaxPooling2D(pool_size=2))\n",
        "model.add(Flatten())\n",
        "model.add(Dense(500,activation=\"relu\"))\n",
        "model.add(Dense(2,activation=\"softmax\"))\n",
        "model.summary()"
      ],
      "metadata": {
        "colab": {
          "base_uri": "https://localhost:8080/"
        },
        "id": "mNp5Cs3GOEm6",
        "outputId": "d174904d-0e52-4eaa-f442-977d9b86fab0"
      },
      "execution_count": 4,
      "outputs": [
        {
          "output_type": "stream",
          "name": "stdout",
          "text": [
            "Model: \"sequential\"\n",
            "_________________________________________________________________\n",
            " Layer (type)                Output Shape              Param #   \n",
            "=================================================================\n",
            " conv2d (Conv2D)             (None, 224, 224, 16)      208       \n",
            "                                                                 \n",
            " max_pooling2d (MaxPooling2D  (None, 112, 112, 16)     0         \n",
            " )                                                               \n",
            "                                                                 \n",
            " conv2d_1 (Conv2D)           (None, 112, 112, 32)      2080      \n",
            "                                                                 \n",
            " max_pooling2d_1 (MaxPooling  (None, 56, 56, 32)       0         \n",
            " 2D)                                                             \n",
            "                                                                 \n",
            " conv2d_2 (Conv2D)           (None, 56, 56, 64)        8256      \n",
            "                                                                 \n",
            " max_pooling2d_2 (MaxPooling  (None, 28, 28, 64)       0         \n",
            " 2D)                                                             \n",
            "                                                                 \n",
            " flatten (Flatten)           (None, 50176)             0         \n",
            "                                                                 \n",
            " dense (Dense)               (None, 500)               25088500  \n",
            "                                                                 \n",
            " dense_1 (Dense)             (None, 2)                 1002      \n",
            "                                                                 \n",
            "=================================================================\n",
            "Total params: 25,100,046\n",
            "Trainable params: 25,100,046\n",
            "Non-trainable params: 0\n",
            "_________________________________________________________________\n"
          ]
        }
      ]
    },
    {
      "cell_type": "code",
      "source": [
        "# tell the model what cost and optimization method to use\n",
        "model.compile(\n",
        "  loss='categorical_crossentropy',\n",
        "  optimizer='adam',\n",
        "  metrics=['accuracy']\n",
        ")\n"
      ],
      "metadata": {
        "id": "q7SxX2DrOICa"
      },
      "execution_count": 5,
      "outputs": []
    },
    {
      "cell_type": "code",
      "source": [
        "# Use the Image Data Generator to import the images from the dataset\n",
        "from tensorflow.keras.preprocessing.image import ImageDataGenerator\n",
        "\n",
        "train_datagen = ImageDataGenerator(rescale = 1./255,\n",
        "                                   shear_range = 0.2,\n",
        "                                   zoom_range = 0.2,\n",
        "                                   horizontal_flip = True)\n",
        "\n",
        "test_datagen = ImageDataGenerator(rescale = 1./255)"
      ],
      "metadata": {
        "id": "_Dlg2Ik1OMft"
      },
      "execution_count": 6,
      "outputs": []
    },
    {
      "cell_type": "code",
      "source": [
        "# Make sure you provide the same target size as initialied for the image size\n",
        "training_set = train_datagen.flow_from_directory('/content/drive/MyDrive/Dataset/Train',\n",
        "                                                 target_size = (224, 224),\n",
        "                                                 batch_size = 32,\n",
        "                                                 class_mode = 'categorical')"
      ],
      "metadata": {
        "colab": {
          "base_uri": "https://localhost:8080/"
        },
        "id": "l03S5DGyOP3R",
        "outputId": "2c094791-f3ed-43ec-e21b-97cc885ee68b"
      },
      "execution_count": 7,
      "outputs": [
        {
          "output_type": "stream",
          "name": "stdout",
          "text": [
            "Found 416 images belonging to 2 classes.\n"
          ]
        }
      ]
    },
    {
      "cell_type": "code",
      "source": [
        "training_set"
      ],
      "metadata": {
        "colab": {
          "base_uri": "https://localhost:8080/"
        },
        "id": "TztZYLJgOSyl",
        "outputId": "fa41a705-72a6-4611-e700-ba3736221747"
      },
      "execution_count": 8,
      "outputs": [
        {
          "output_type": "execute_result",
          "data": {
            "text/plain": [
              "<keras.preprocessing.image.DirectoryIterator at 0x7f07626ce7d0>"
            ]
          },
          "metadata": {},
          "execution_count": 8
        }
      ]
    },
    {
      "cell_type": "code",
      "source": [
        "test_set = test_datagen.flow_from_directory('/content/drive/MyDrive/Dataset/Test',\n",
        "                                            target_size = (224, 224),\n",
        "                                            batch_size = 32,\n",
        "                                            class_mode = 'categorical')"
      ],
      "metadata": {
        "colab": {
          "base_uri": "https://localhost:8080/"
        },
        "id": "p8staqhAOYMu",
        "outputId": "eeb6ff1d-fad2-4394-8954-3dabbabe38bf"
      },
      "execution_count": 9,
      "outputs": [
        {
          "output_type": "stream",
          "name": "stdout",
          "text": [
            "Found 134 images belonging to 2 classes.\n"
          ]
        }
      ]
    },
    {
      "cell_type": "code",
      "source": [
        "# fit the model\n",
        "# Run the cell. It will take some time to execute\n",
        "r = model.fit_generator(\n",
        "  training_set,\n",
        "  validation_data=test_set,\n",
        "  epochs=50,\n",
        "  steps_per_epoch=len(training_set),\n",
        "  validation_steps=len(test_set)\n",
        ")"
      ],
      "metadata": {
        "colab": {
          "base_uri": "https://localhost:8080/"
        },
        "id": "bqt1V2O8ObHD",
        "outputId": "88ab0c81-25e9-4c11-bbb3-469113a304e7"
      },
      "execution_count": 10,
      "outputs": [
        {
          "output_type": "stream",
          "name": "stderr",
          "text": [
            "/usr/local/lib/python3.7/dist-packages/ipykernel_launcher.py:8: UserWarning: `Model.fit_generator` is deprecated and will be removed in a future version. Please use `Model.fit`, which supports generators.\n",
            "  \n"
          ]
        },
        {
          "output_type": "stream",
          "name": "stdout",
          "text": [
            "Epoch 1/50\n",
            "13/13 [==============================] - 80s 6s/step - loss: 1.1459 - accuracy: 0.5385 - val_loss: 0.9310 - val_accuracy: 0.3284\n",
            "Epoch 2/50\n",
            "13/13 [==============================] - 22s 2s/step - loss: 0.5945 - accuracy: 0.7043 - val_loss: 0.8611 - val_accuracy: 0.3731\n",
            "Epoch 3/50\n",
            "13/13 [==============================] - 22s 2s/step - loss: 0.5148 - accuracy: 0.7308 - val_loss: 0.8366 - val_accuracy: 0.4030\n",
            "Epoch 4/50\n",
            "13/13 [==============================] - 22s 2s/step - loss: 0.4831 - accuracy: 0.7500 - val_loss: 0.6344 - val_accuracy: 0.6119\n",
            "Epoch 5/50\n",
            "13/13 [==============================] - 22s 2s/step - loss: 0.4110 - accuracy: 0.8149 - val_loss: 1.0481 - val_accuracy: 0.4925\n",
            "Epoch 6/50\n",
            "13/13 [==============================] - 22s 2s/step - loss: 0.3107 - accuracy: 0.8774 - val_loss: 0.6907 - val_accuracy: 0.6642\n",
            "Epoch 7/50\n",
            "13/13 [==============================] - 24s 2s/step - loss: 0.2308 - accuracy: 0.9159 - val_loss: 0.3479 - val_accuracy: 0.8507\n",
            "Epoch 8/50\n",
            "13/13 [==============================] - 24s 2s/step - loss: 0.1935 - accuracy: 0.9303 - val_loss: 0.5449 - val_accuracy: 0.7463\n",
            "Epoch 9/50\n",
            "13/13 [==============================] - 22s 2s/step - loss: 0.2497 - accuracy: 0.9231 - val_loss: 0.3384 - val_accuracy: 0.8731\n",
            "Epoch 10/50\n",
            "13/13 [==============================] - 22s 2s/step - loss: 0.1686 - accuracy: 0.9519 - val_loss: 0.2691 - val_accuracy: 0.8657\n",
            "Epoch 11/50\n",
            "13/13 [==============================] - 22s 2s/step - loss: 0.1200 - accuracy: 0.9663 - val_loss: 0.2782 - val_accuracy: 0.8881\n",
            "Epoch 12/50\n",
            "13/13 [==============================] - 22s 2s/step - loss: 0.0990 - accuracy: 0.9760 - val_loss: 0.2806 - val_accuracy: 0.8806\n",
            "Epoch 13/50\n",
            "13/13 [==============================] - 23s 2s/step - loss: 0.0965 - accuracy: 0.9639 - val_loss: 0.2317 - val_accuracy: 0.8806\n",
            "Epoch 14/50\n",
            "13/13 [==============================] - 22s 2s/step - loss: 0.0612 - accuracy: 0.9808 - val_loss: 0.2176 - val_accuracy: 0.9254\n",
            "Epoch 15/50\n",
            "13/13 [==============================] - 24s 2s/step - loss: 0.1153 - accuracy: 0.9615 - val_loss: 0.2106 - val_accuracy: 0.9179\n",
            "Epoch 16/50\n",
            "13/13 [==============================] - 24s 2s/step - loss: 0.0633 - accuracy: 0.9832 - val_loss: 0.1952 - val_accuracy: 0.9179\n",
            "Epoch 17/50\n",
            "13/13 [==============================] - 22s 2s/step - loss: 0.0727 - accuracy: 0.9832 - val_loss: 0.2151 - val_accuracy: 0.9030\n",
            "Epoch 18/50\n",
            "13/13 [==============================] - 22s 2s/step - loss: 0.0583 - accuracy: 0.9856 - val_loss: 0.2900 - val_accuracy: 0.9030\n",
            "Epoch 19/50\n",
            "13/13 [==============================] - 22s 2s/step - loss: 0.0597 - accuracy: 0.9880 - val_loss: 0.1859 - val_accuracy: 0.9104\n",
            "Epoch 20/50\n",
            "13/13 [==============================] - 22s 2s/step - loss: 0.0446 - accuracy: 0.9856 - val_loss: 0.3101 - val_accuracy: 0.9254\n",
            "Epoch 21/50\n",
            "13/13 [==============================] - 22s 2s/step - loss: 0.0734 - accuracy: 0.9808 - val_loss: 0.3135 - val_accuracy: 0.8731\n",
            "Epoch 22/50\n",
            "13/13 [==============================] - 22s 2s/step - loss: 0.0575 - accuracy: 0.9832 - val_loss: 0.1290 - val_accuracy: 0.9478\n",
            "Epoch 23/50\n",
            "13/13 [==============================] - 24s 2s/step - loss: 0.0414 - accuracy: 0.9832 - val_loss: 0.3131 - val_accuracy: 0.8955\n",
            "Epoch 24/50\n",
            "13/13 [==============================] - 22s 2s/step - loss: 0.0383 - accuracy: 0.9928 - val_loss: 0.2478 - val_accuracy: 0.9104\n",
            "Epoch 25/50\n",
            "13/13 [==============================] - 22s 2s/step - loss: 0.0393 - accuracy: 0.9880 - val_loss: 0.1513 - val_accuracy: 0.9478\n",
            "Epoch 26/50\n",
            "13/13 [==============================] - 22s 2s/step - loss: 0.0300 - accuracy: 0.9928 - val_loss: 0.2482 - val_accuracy: 0.9179\n",
            "Epoch 27/50\n",
            "13/13 [==============================] - 22s 2s/step - loss: 0.0270 - accuracy: 0.9904 - val_loss: 0.2722 - val_accuracy: 0.9104\n",
            "Epoch 28/50\n",
            "13/13 [==============================] - 22s 2s/step - loss: 0.0223 - accuracy: 0.9904 - val_loss: 0.2526 - val_accuracy: 0.9179\n",
            "Epoch 29/50\n",
            "13/13 [==============================] - 22s 2s/step - loss: 0.0254 - accuracy: 0.9952 - val_loss: 0.2027 - val_accuracy: 0.9403\n",
            "Epoch 30/50\n",
            "13/13 [==============================] - 24s 2s/step - loss: 0.0350 - accuracy: 0.9880 - val_loss: 0.4423 - val_accuracy: 0.8806\n",
            "Epoch 31/50\n",
            "13/13 [==============================] - 24s 2s/step - loss: 0.0435 - accuracy: 0.9832 - val_loss: 0.3850 - val_accuracy: 0.8881\n",
            "Epoch 32/50\n",
            "13/13 [==============================] - 22s 2s/step - loss: 0.0303 - accuracy: 0.9904 - val_loss: 0.3593 - val_accuracy: 0.9104\n",
            "Epoch 33/50\n",
            "13/13 [==============================] - 22s 2s/step - loss: 0.0290 - accuracy: 0.9952 - val_loss: 0.3193 - val_accuracy: 0.9030\n",
            "Epoch 34/50\n",
            "13/13 [==============================] - 22s 2s/step - loss: 0.0233 - accuracy: 0.9952 - val_loss: 0.2495 - val_accuracy: 0.9328\n",
            "Epoch 35/50\n",
            "13/13 [==============================] - 22s 2s/step - loss: 0.0190 - accuracy: 0.9952 - val_loss: 0.4239 - val_accuracy: 0.9030\n",
            "Epoch 36/50\n",
            "13/13 [==============================] - 22s 2s/step - loss: 0.0175 - accuracy: 0.9976 - val_loss: 0.3028 - val_accuracy: 0.9328\n",
            "Epoch 37/50\n",
            "13/13 [==============================] - 24s 2s/step - loss: 0.0110 - accuracy: 0.9976 - val_loss: 0.2793 - val_accuracy: 0.9254\n",
            "Epoch 38/50\n",
            "13/13 [==============================] - 22s 2s/step - loss: 0.0260 - accuracy: 0.9904 - val_loss: 0.3656 - val_accuracy: 0.9030\n",
            "Epoch 39/50\n",
            "13/13 [==============================] - 22s 2s/step - loss: 0.0392 - accuracy: 0.9856 - val_loss: 0.2605 - val_accuracy: 0.9328\n",
            "Epoch 40/50\n",
            "13/13 [==============================] - 22s 2s/step - loss: 0.0215 - accuracy: 0.9952 - val_loss: 0.5269 - val_accuracy: 0.8731\n",
            "Epoch 41/50\n",
            "13/13 [==============================] - 22s 2s/step - loss: 0.0398 - accuracy: 0.9904 - val_loss: 0.1762 - val_accuracy: 0.9403\n",
            "Epoch 42/50\n",
            "13/13 [==============================] - 22s 2s/step - loss: 0.0156 - accuracy: 0.9976 - val_loss: 0.2512 - val_accuracy: 0.9254\n",
            "Epoch 43/50\n",
            "13/13 [==============================] - 22s 2s/step - loss: 0.0162 - accuracy: 0.9928 - val_loss: 0.2441 - val_accuracy: 0.9403\n",
            "Epoch 44/50\n",
            "13/13 [==============================] - 22s 2s/step - loss: 0.0131 - accuracy: 0.9976 - val_loss: 0.1989 - val_accuracy: 0.9403\n",
            "Epoch 45/50\n",
            "13/13 [==============================] - 24s 2s/step - loss: 0.0499 - accuracy: 0.9904 - val_loss: 0.2338 - val_accuracy: 0.9403\n",
            "Epoch 46/50\n",
            "13/13 [==============================] - 22s 2s/step - loss: 0.0470 - accuracy: 0.9808 - val_loss: 0.1620 - val_accuracy: 0.9328\n",
            "Epoch 47/50\n",
            "13/13 [==============================] - 22s 2s/step - loss: 0.0541 - accuracy: 0.9904 - val_loss: 0.2573 - val_accuracy: 0.9030\n",
            "Epoch 48/50\n",
            "13/13 [==============================] - 22s 2s/step - loss: 0.0240 - accuracy: 0.9904 - val_loss: 0.2802 - val_accuracy: 0.9254\n",
            "Epoch 49/50\n",
            "13/13 [==============================] - 22s 2s/step - loss: 0.0422 - accuracy: 0.9856 - val_loss: 0.4725 - val_accuracy: 0.8806\n",
            "Epoch 50/50\n",
            "13/13 [==============================] - 22s 2s/step - loss: 0.0481 - accuracy: 0.9904 - val_loss: 0.4026 - val_accuracy: 0.8955\n"
          ]
        }
      ]
    },
    {
      "cell_type": "code",
      "source": [
        "# plot the loss\n",
        "plt.plot(r.history['loss'], label='train loss')\n",
        "plt.plot(r.history['val_loss'], label='val loss')\n",
        "plt.legend()\n",
        "plt.show()\n",
        "plt.savefig('LossVal_loss')\n",
        "\n",
        "# plot the accuracy\n",
        "plt.plot(r.history['accuracy'], label='train acc')\n",
        "plt.plot(r.history['val_accuracy'], label='val acc')\n",
        "plt.legend()\n",
        "plt.show()\n",
        "plt.savefig('AccVal_acc')"
      ],
      "metadata": {
        "colab": {
          "base_uri": "https://localhost:8080/",
          "height": 534
        },
        "id": "c7z-kmnVlN1T",
        "outputId": "e9c18515-9131-4cba-dfc3-0e724c0e4c9d"
      },
      "execution_count": 11,
      "outputs": [
        {
          "output_type": "display_data",
          "data": {
            "text/plain": [
              "<Figure size 432x288 with 1 Axes>"
            ],
            "image/png": "[encoded data removed]"
          },
          "metadata": {
            "needs_background": "light"
          }
        },
        {
          "output_type": "display_data",
          "data": {
            "text/plain": [
              "<Figure size 432x288 with 1 Axes>"
            ],
            "image/png": "[encoded data removed]"
          },
          "metadata": {
            "needs_background": "light"
          }
        },
        {
          "output_type": "display_data",
          "data": {
            "text/plain": [
              "<Figure size 432x288 with 0 Axes>"
            ]
          },
          "metadata": {}
        }
      ]
    },
    {
      "cell_type": "code",
      "source": [
        " #save it as a h5 file\n",
        "\n",
        "\n",
        "from tensorflow.keras.models import load_model\n",
        "\n",
        "model.save('model.h5')"
      ],
      "metadata": {
        "id": "DseCXFP2sIOC"
      },
      "execution_count": 12,
      "outputs": []
    },
    {
      "cell_type": "code",
      "source": [
        "y_pred = model.predict(test_set)"
      ],
      "metadata": {
        "colab": {
          "base_uri": "https://localhost:8080/"
        },
        "id": "6JIDISFIsMpK",
        "outputId": "c8141da3-4795-417e-a1e9-9079a2e2ae0e"
      },
      "execution_count": 13,
      "outputs": [
        {
          "output_type": "stream",
          "name": "stdout",
          "text": [
            "5/5 [==============================] - 3s 416ms/step\n"
          ]
        }
      ]
    },
    {
      "cell_type": "code",
      "source": [
        "y_pred"
      ],
      "metadata": {
        "colab": {
          "base_uri": "https://localhost:8080/"
        },
        "id": "4LpdFkupsWsG",
        "outputId": "9037c968-f3a3-49eb-c8af-e170bd70342a"
      },
      "execution_count": 14,
      "outputs": [
        {
          "output_type": "execute_result",
          "data": {
            "text/plain": [
              "array([[5.00997126e-01, 4.99002844e-01],\n",
              "       [1.33969588e-02, 9.86603081e-01],\n",
              "       [9.98919427e-01, 1.08059112e-03],\n",
              "       [1.05969794e-03, 9.98940289e-01],\n",
              "       [2.41932855e-03, 9.97580647e-01],\n",
              "       [1.04852505e-02, 9.89514649e-01],\n",
              "       [9.99913275e-01, 8.66928822e-05],\n",
              "       [6.13506883e-02, 9.38649237e-01],\n",
              "       [4.40321296e-01, 5.59678733e-01],\n",
              "       [2.42953897e-02, 9.75704551e-01],\n",
              "       [9.99999940e-01, 3.05101222e-10],\n",
              "       [9.81273472e-01, 1.87264327e-02],\n",
              "       [9.99897301e-01, 1.02658494e-04],\n",
              "       [3.83834617e-04, 9.99616206e-01],\n",
              "       [9.94595051e-01, 5.40487934e-03],\n",
              "       [9.99999940e-01, 8.97311874e-14],\n",
              "       [5.69746224e-03, 9.94302511e-01],\n",
              "       [9.99863386e-01, 1.36646209e-04],\n",
              "       [9.95033145e-01, 4.96682897e-03],\n",
              "       [9.44921672e-01, 5.50783798e-02],\n",
              "       [9.99953330e-01, 4.66031888e-05],\n",
              "       [9.99952257e-01, 4.77119429e-05],\n",
              "       [1.58327492e-03, 9.98416662e-01],\n",
              "       [9.99545395e-01, 4.54599678e-04],\n",
              "       [9.98358607e-01, 1.64130528e-03],\n",
              "       [7.00881064e-04, 9.99299049e-01],\n",
              "       [9.99985874e-01, 1.40212560e-05],\n",
              "       [6.43662293e-04, 9.99356329e-01],\n",
              "       [9.99983370e-01, 1.66043246e-05],\n",
              "       [9.89172757e-01, 1.08271567e-02],\n",
              "       [9.64977622e-01, 3.50224748e-02],\n",
              "       [1.92662032e-04, 9.99807358e-01],\n",
              "       [1.04777119e-03, 9.98952150e-01],\n",
              "       [9.99456525e-01, 5.43568167e-04],\n",
              "       [9.99849558e-01, 1.50393782e-04],\n",
              "       [2.33327248e-03, 9.97666657e-01],\n",
              "       [5.55112772e-03, 9.94448900e-01],\n",
              "       [9.99235153e-01, 7.64884055e-04],\n",
              "       [9.99998152e-01, 1.77867116e-06],\n",
              "       [9.99999940e-01, 3.46534599e-16],\n",
              "       [9.99998868e-01, 1.08214351e-06],\n",
              "       [5.41046541e-03, 9.94589508e-01],\n",
              "       [9.93759751e-01, 6.24023052e-03],\n",
              "       [9.99780893e-01, 2.19141613e-04],\n",
              "       [3.58262099e-04, 9.99641776e-01],\n",
              "       [9.93915135e-04, 9.99005973e-01],\n",
              "       [9.30631708e-04, 9.99069333e-01],\n",
              "       [3.27561074e-03, 9.96724308e-01],\n",
              "       [9.99999821e-01, 1.24972360e-07],\n",
              "       [9.99980032e-01, 1.99052374e-05],\n",
              "       [3.21835442e-03, 9.96781588e-01],\n",
              "       [9.96115923e-01, 3.88412992e-03],\n",
              "       [9.99999821e-01, 1.53673923e-07],\n",
              "       [9.55060780e-01, 4.49392609e-02],\n",
              "       [9.99492824e-01, 5.07143966e-04],\n",
              "       [2.49213935e-03, 9.97507751e-01],\n",
              "       [9.79543149e-01, 2.04567648e-02],\n",
              "       [9.97681856e-01, 2.31814804e-03],\n",
              "       [1.03026433e-02, 9.89697278e-01],\n",
              "       [8.34803045e-01, 1.65196925e-01],\n",
              "       [9.99992549e-01, 7.42482689e-06],\n",
              "       [2.85637914e-03, 9.97143626e-01],\n",
              "       [9.99856234e-01, 1.43878249e-04],\n",
              "       [9.99999940e-01, 6.52201266e-15],\n",
              "       [9.99999940e-01, 2.19277950e-18],\n",
              "       [8.32434651e-03, 9.91675615e-01],\n",
              "       [2.06030649e-03, 9.97939646e-01],\n",
              "       [2.21617357e-03, 9.97783840e-01],\n",
              "       [5.62647870e-03, 9.94373620e-01],\n",
              "       [9.99976575e-01, 2.33876617e-05],\n",
              "       [9.99864101e-01, 1.35985902e-04],\n",
              "       [9.99561846e-01, 4.38187184e-04],\n",
              "       [1.90203311e-03, 9.98097897e-01],\n",
              "       [7.59254992e-01, 2.40745068e-01],\n",
              "       [1.67336866e-01, 8.32663119e-01],\n",
              "       [2.24035629e-03, 9.97759581e-01],\n",
              "       [9.99231100e-01, 7.68882979e-04],\n",
              "       [9.99819279e-01, 1.80785748e-04],\n",
              "       [9.99999940e-01, 2.66762203e-08],\n",
              "       [9.98980761e-01, 1.01929461e-03],\n",
              "       [9.99998987e-01, 9.67533651e-07],\n",
              "       [9.99955356e-01, 4.45436963e-05],\n",
              "       [9.96150255e-01, 3.84972361e-03],\n",
              "       [6.88857213e-02, 9.31114256e-01],\n",
              "       [9.99999940e-01, 1.00740548e-10],\n",
              "       [5.82399452e-03, 9.94176030e-01],\n",
              "       [1.80802739e-03, 9.98192012e-01],\n",
              "       [9.99956548e-01, 4.33380010e-05],\n",
              "       [4.51174565e-03, 9.95488286e-01],\n",
              "       [2.03936943e-03, 9.97960687e-01],\n",
              "       [2.62702797e-02, 9.73729849e-01],\n",
              "       [4.42821607e-02, 9.55717802e-01],\n",
              "       [9.85328913e-01, 1.46711888e-02],\n",
              "       [1.91797735e-03, 9.98082042e-01],\n",
              "       [9.99842405e-01, 1.57556395e-04],\n",
              "       [4.06830199e-02, 9.59316850e-01],\n",
              "       [9.99683619e-01, 3.16458667e-04],\n",
              "       [9.99999940e-01, 1.90649629e-08],\n",
              "       [8.61863780e-04, 9.99138117e-01],\n",
              "       [1.00941618e-03, 9.98990536e-01],\n",
              "       [9.99912083e-01, 8.78444334e-05],\n",
              "       [9.99975979e-01, 2.39447363e-05],\n",
              "       [9.99996006e-01, 3.88231501e-06],\n",
              "       [5.18900007e-02, 9.48109865e-01],\n",
              "       [9.99999940e-01, 1.54863999e-09],\n",
              "       [1.94345452e-02, 9.80565429e-01],\n",
              "       [2.75500608e-03, 9.97244895e-01],\n",
              "       [9.99961078e-01, 3.88576300e-05],\n",
              "       [2.34056544e-03, 9.97659385e-01],\n",
              "       [9.99999940e-01, 4.11116901e-08],\n",
              "       [9.93816137e-01, 6.18383428e-03],\n",
              "       [1.17370882e-03, 9.98826325e-01],\n",
              "       [2.90930527e-03, 9.97090697e-01],\n",
              "       [9.99815464e-01, 1.84485267e-04],\n",
              "       [9.99999940e-01, 4.09447760e-19],\n",
              "       [9.99682903e-01, 3.17152415e-04],\n",
              "       [3.40699847e-03, 9.96592879e-01],\n",
              "       [9.99999940e-01, 5.49270984e-09],\n",
              "       [9.99934256e-01, 6.56561315e-05],\n",
              "       [9.98902500e-01, 1.09741092e-03],\n",
              "       [1.59185939e-03, 9.98408139e-01],\n",
              "       [6.67594140e-03, 9.93324101e-01],\n",
              "       [9.95223105e-01, 4.77689039e-03],\n",
              "       [9.99991357e-01, 8.56468796e-06],\n",
              "       [1.06569950e-03, 9.98934329e-01],\n",
              "       [5.52433683e-03, 9.94475543e-01],\n",
              "       [9.10008326e-02, 9.08999145e-01],\n",
              "       [6.10755205e-01, 3.89244795e-01],\n",
              "       [1.88926084e-03, 9.98110771e-01],\n",
              "       [1.00000000e+00, 3.36174166e-12],\n",
              "       [9.97598231e-01, 2.40181899e-03],\n",
              "       [9.99997139e-01, 2.80364634e-06],\n",
              "       [3.38515034e-03, 9.96614873e-01],\n",
              "       [9.99998927e-01, 1.11204633e-06]], dtype=float32)"
            ]
          },
          "metadata": {},
          "execution_count": 14
        }
      ]
    },
    {
      "cell_type": "code",
      "source": [
        "y_pred = np.argmax(y_pred, axis=1)"
      ],
      "metadata": {
        "id": "l2yNBVoNsaoe"
      },
      "execution_count": 15,
      "outputs": []
    },
    {
      "cell_type": "code",
      "source": [
        "y_pred"
      ],
      "metadata": {
        "colab": {
          "base_uri": "https://localhost:8080/"
        },
        "id": "vvwWBx4RsiXW",
        "outputId": "257bf077-9f36-4524-c128-c76559ab1fff"
      },
      "execution_count": 16,
      "outputs": [
        {
          "output_type": "execute_result",
          "data": {
            "text/plain": [
              "array([0, 1, 0, 1, 1, 1, 0, 1, 1, 1, 0, 0, 0, 1, 0, 0, 1, 0, 0, 0, 0, 0,\n",
              "       1, 0, 0, 1, 0, 1, 0, 0, 0, 1, 1, 0, 0, 1, 1, 0, 0, 0, 0, 1, 0, 0,\n",
              "       1, 1, 1, 1, 0, 0, 1, 0, 0, 0, 0, 1, 0, 0, 1, 0, 0, 1, 0, 0, 0, 1,\n",
              "       1, 1, 1, 0, 0, 0, 1, 0, 1, 1, 0, 0, 0, 0, 0, 0, 0, 1, 0, 1, 1, 0,\n",
              "       1, 1, 1, 1, 0, 1, 0, 1, 0, 0, 1, 1, 0, 0, 0, 1, 0, 1, 1, 0, 1, 0,\n",
              "       0, 1, 1, 0, 0, 0, 1, 0, 0, 0, 1, 1, 0, 0, 1, 1, 1, 0, 1, 0, 0, 0,\n",
              "       1, 0])"
            ]
          },
          "metadata": {},
          "execution_count": 16
        }
      ]
    },
    {
      "cell_type": "code",
      "source": [
        "from tensorflow.keras.models import load_model\n",
        "from tensorflow.keras.preprocessing import image"
      ],
      "metadata": {
        "id": "Z0XTIqGVsl6W"
      },
      "execution_count": 17,
      "outputs": []
    },
    {
      "cell_type": "code",
      "source": [
        "model=load_model('model.h5')"
      ],
      "metadata": {
        "id": "bEwFuOy3speu"
      },
      "execution_count": 19,
      "outputs": []
    },
    {
      "cell_type": "code",
      "source": [
        "img=image.load_img('/content/drive/MyDrive/Dataset/Test/Uninfected/C3thin_original_IMG_20150608_162922_cell_145.png',target_size=(224,224))"
      ],
      "metadata": {
        "id": "PnxiDCPBs0XB"
      },
      "execution_count": 20,
      "outputs": []
    },
    {
      "cell_type": "code",
      "source": [
        "x=image.img_to_array(img)\n",
        "x"
      ],
      "metadata": {
        "colab": {
          "base_uri": "https://localhost:8080/"
        },
        "id": "B1O1G6Fvs5ZR",
        "outputId": "cd3b3df8-8859-4b4f-9797-e68048e59ef0"
      },
      "execution_count": 21,
      "outputs": [
        {
          "output_type": "execute_result",
          "data": {
            "text/plain": [
              "array([[[0., 0., 0.],\n",
              "        [0., 0., 0.],\n",
              "        [0., 0., 0.],\n",
              "        ...,\n",
              "        [0., 0., 0.],\n",
              "        [0., 0., 0.],\n",
              "        [0., 0., 0.]],\n",
              "\n",
              "       [[0., 0., 0.],\n",
              "        [0., 0., 0.],\n",
              "        [0., 0., 0.],\n",
              "        ...,\n",
              "        [0., 0., 0.],\n",
              "        [0., 0., 0.],\n",
              "        [0., 0., 0.]],\n",
              "\n",
              "       [[0., 0., 0.],\n",
              "        [0., 0., 0.],\n",
              "        [0., 0., 0.],\n",
              "        ...,\n",
              "        [0., 0., 0.],\n",
              "        [0., 0., 0.],\n",
              "        [0., 0., 0.]],\n",
              "\n",
              "       ...,\n",
              "\n",
              "       [[0., 0., 0.],\n",
              "        [0., 0., 0.],\n",
              "        [0., 0., 0.],\n",
              "        ...,\n",
              "        [0., 0., 0.],\n",
              "        [0., 0., 0.],\n",
              "        [0., 0., 0.]],\n",
              "\n",
              "       [[0., 0., 0.],\n",
              "        [0., 0., 0.],\n",
              "        [0., 0., 0.],\n",
              "        ...,\n",
              "        [0., 0., 0.],\n",
              "        [0., 0., 0.],\n",
              "        [0., 0., 0.]],\n",
              "\n",
              "       [[0., 0., 0.],\n",
              "        [0., 0., 0.],\n",
              "        [0., 0., 0.],\n",
              "        ...,\n",
              "        [0., 0., 0.],\n",
              "        [0., 0., 0.],\n",
              "        [0., 0., 0.]]], dtype=float32)"
            ]
          },
          "metadata": {},
          "execution_count": 21
        }
      ]
    },
    {
      "cell_type": "code",
      "source": [
        "x.shape"
      ],
      "metadata": {
        "colab": {
          "base_uri": "https://localhost:8080/"
        },
        "id": "U35C_boJs8vz",
        "outputId": "de923360-5316-48f1-d2e8-4e0f451a6ea5"
      },
      "execution_count": 22,
      "outputs": [
        {
          "output_type": "execute_result",
          "data": {
            "text/plain": [
              "(224, 224, 3)"
            ]
          },
          "metadata": {},
          "execution_count": 22
        }
      ]
    },
    {
      "cell_type": "code",
      "source": [
        "x=x/255"
      ],
      "metadata": {
        "id": "EV_7kSn8tD_G"
      },
      "execution_count": 23,
      "outputs": []
    },
    {
      "cell_type": "code",
      "source": [
        "x=np.expand_dims(x,axis=0)\n",
        "img_data=preprocess_input(x)\n",
        "img_data.shape"
      ],
      "metadata": {
        "colab": {
          "base_uri": "https://localhost:8080/"
        },
        "id": "k8qxikMOtHD8",
        "outputId": "e6415154-4535-4177-e097-ff7a6507bb11"
      },
      "execution_count": 24,
      "outputs": [
        {
          "output_type": "execute_result",
          "data": {
            "text/plain": [
              "(1, 224, 224, 3)"
            ]
          },
          "metadata": {},
          "execution_count": 24
        }
      ]
    },
    {
      "cell_type": "code",
      "source": [
        "model.predict(img_data)"
      ],
      "metadata": {
        "colab": {
          "base_uri": "https://localhost:8080/"
        },
        "id": "rCcqWmtdtKnE",
        "outputId": "ba21c296-8919-450e-eb4b-37eefe15da7e"
      },
      "execution_count": 25,
      "outputs": [
        {
          "output_type": "stream",
          "name": "stdout",
          "text": [
            "1/1 [==============================] - 0s 163ms/step\n"
          ]
        },
        {
          "output_type": "execute_result",
          "data": {
            "text/plain": [
              "array([[0., 1.]], dtype=float32)"
            ]
          },
          "metadata": {},
          "execution_count": 25
        }
      ]
    },
    {
      "cell_type": "code",
      "source": [
        "a=np.argmax(model.predict(img_data), axis=1)"
      ],
      "metadata": {
        "colab": {
          "base_uri": "https://localhost:8080/"
        },
        "id": "EuOi4LfotPZ6",
        "outputId": "03c85b60-7af4-48fb-f1b8-5c91cdeb70a5"
      },
      "execution_count": 26,
      "outputs": [
        {
          "output_type": "stream",
          "name": "stdout",
          "text": [
            "1/1 [==============================] - 0s 57ms/step\n"
          ]
        }
      ]
    },
    {
      "cell_type": "code",
      "source": [
        "if(a==1):\n",
        "    print(\"Uninfected\")\n",
        "else:\n",
        "    print(\"Infected\")"
      ],
      "metadata": {
        "id": "3AynKUbXtUrX",
        "outputId": "c6c896d2-727c-4070-dce3-41aa47e606bd",
        "colab": {
          "base_uri": "https://localhost:8080/"
        }
      },
      "execution_count": 27,
      "outputs": [
        {
          "output_type": "stream",
          "name": "stdout",
          "text": [
            "Uninfected\n"
          ]
        }
      ]
    },
    {
      "cell_type": "code",
      "source": [],
      "metadata": {
        "id": "wHTKCvzDtY23"
      },
      "execution_count": null,
      "outputs": []
    }
  ]
}